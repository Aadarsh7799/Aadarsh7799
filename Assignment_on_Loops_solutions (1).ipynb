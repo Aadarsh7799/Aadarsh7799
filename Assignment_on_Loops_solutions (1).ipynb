{
  "cells": [
    {
      "cell_type": "markdown",
      "metadata": {
        "id": "MdAkQQ_Y4wwG"
      },
      "source": [
        "Write a program which accepts month's name as input and display the number of days in the month as output "
      ]
    },
    {
      "cell_type": "code",
      "execution_count": null,
      "metadata": {
        "colab": {
          "base_uri": "https://localhost:8080/"
        },
        "id": "Wy7YDWmc7jML",
        "outputId": "f151b4b9-3ded-4e04-ddb3-e4c7cc48d31f"
      },
      "outputs": [
        {
          "name": "stdout",
          "output_type": "stream",
          "text": [
            "Input the name of Month: June\n",
            "No. of days: 30 days\n"
          ]
        }
      ],
      "source": [
        "month_name = input(\"Input the name of Month: \")\n",
        "\n",
        "if month_name == \"February\":\n",
        "\tprint(\"No. of days: 28/29 days\")\n",
        "elif month_name in (\"April\", \"June\", \"September\", \"November\"):\n",
        "\tprint(\"No. of days: 30 days\")\n",
        "elif month_name in (\"January\", \"March\", \"May\", \"July\", \"August\", \"October\", \"December\"):\n",
        "\tprint(\"No. of days: 31 day\")\n",
        "else:\n",
        "\tprint(\"Wrong month name\") "
      ]
    },
    {
      "cell_type": "markdown",
      "metadata": {
        "id": "Q8cCBC198J6M"
      },
      "source": [
        "Take any word as input from the user and count the number of vowels in the word"
      ]
    },
    {
      "cell_type": "code",
      "execution_count": 1,
      "metadata": {
        "id": "5ROilgXoBy32"
      },
      "outputs": [],
      "source": [
        "x=str(input('enter a word'))\n",
        "vowels=0\n",
        "for i in x:\n",
        "    if (i=='a'or i=='e'or i=='i'or i=='o'or i=='u'or i=='A', i=='E',i=='I',i=='O',i=='U'):\n",
        "      vowels=vowels+1\n",
        "print('number of vowels are', vowels)   \n",
        "        \n",
        "\n"
      ]
    },
    {
      "cell_type": "markdown",
      "metadata": {
        "id": "1ugWwVXd49OI"
      },
      "source": [
        "Write a program to separate even and odd numbers in two distinct lists from a list of numbers of your choice "
      ]
    },
    {
      "cell_type": "code",
      "execution_count": null,
      "metadata": {
        "colab": {
          "base_uri": "https://localhost:8080/"
        },
        "id": "dP7_bUh37i2D",
        "outputId": "5b2b3e49-8012-4213-eba7-21ddc137f7d0"
      },
      "outputs": [
        {
          "name": "stdout",
          "output_type": "stream",
          "text": [
            "[34, 78, 44, 12]\n",
            "[23, 11, 93]\n"
          ]
        }
      ],
      "source": [
        "my_list=[34,78,44,23,11,12,93]\n",
        "\n",
        "even=[]\n",
        "odd=[]\n",
        "\n",
        "for i in my_list:\n",
        "\n",
        "  if i%2==0:\n",
        "    even.append(i)\n",
        "\n",
        "  else:\n",
        "    odd.append(i)\n",
        "    \n",
        "print(even)\n",
        "print(odd)"
      ]
    },
    {
      "cell_type": "markdown",
      "metadata": {
        "id": "uaqnGrhs49Mf"
      },
      "source": [
        "Write a program that appends datatype of elements from a list to a separate list"
      ]
    },
    {
      "cell_type": "code",
      "execution_count": null,
      "metadata": {
        "colab": {
          "base_uri": "https://localhost:8080/"
        },
        "id": "RH9DVuFT7ibC",
        "outputId": "af2b81a3-7498-44ce-9423-f937f8276e3b"
      },
      "outputs": [
        {
          "name": "stdout",
          "output_type": "stream",
          "text": [
            "[<class 'str'>, <class 'str'>, <class 'int'>, <class 'float'>]\n"
          ]
        }
      ],
      "source": [
        "my_list=['India','USA',35,-4.55]\n",
        "\n",
        "d_list=[]\n",
        "\n",
        "for i in my_list:\n",
        "  d_list.append(type(i))\n",
        "\n",
        "print(d_list)"
      ]
    },
    {
      "cell_type": "markdown",
      "metadata": {
        "id": "ddMu0Pj1643Y"
      },
      "source": [
        "Write a program to display only those numbers from a list that satisfies the following conditions:\n",
        "\n",
        "1. The number must be divisible by 7\n",
        "\n",
        "2. If the number is greater than 140 then skip it and move to the next number in the list\n",
        "\n",
        "3. If the number in the list is greater than 630 then stop the loop"
      ]
    },
    {
      "cell_type": "code",
      "execution_count": null,
      "metadata": {
        "colab": {
          "base_uri": "https://localhost:8080/"
        },
        "id": "QxFeRtW34rJV",
        "outputId": "d88e1a54-9440-4b57-c1bf-b44d3eb1ce62"
      },
      "outputs": [
        {
          "name": "stdout",
          "output_type": "stream",
          "text": [
            "70\n",
            "210\n",
            "525\n"
          ]
        }
      ],
      "source": [
        "numbers = [17, 70, 140, 210, 145, 525, 700]\n",
        "\n",
        "for i in numbers:\n",
        "    if i > 630:\n",
        "        break\n",
        "    elif i == 140:\n",
        "        continue\n",
        "    # check if number is divisible by 7\n",
        "    elif i % 7 == 0:\n",
        "        print(i)"
      ]
    },
    {
      "cell_type": "code",
      "execution_count": null,
      "metadata": {
        "id": "AQmh9o8PAZ9V"
      },
      "outputs": [],
      "source": []
    }
  ],
  "metadata": {
    "colab": {
      "provenance": []
    },
    "kernelspec": {
      "display_name": "Python 3",
      "name": "python3"
    },
    "language_info": {
      "codemirror_mode": {
        "name": "ipython",
        "version": 3
      },
      "file_extension": ".py",
      "mimetype": "text/x-python",
      "name": "python",
      "nbconvert_exporter": "python",
      "pygments_lexer": "ipython3",
      "version": "3.11.3"
    }
  },
  "nbformat": 4,
  "nbformat_minor": 0
}
