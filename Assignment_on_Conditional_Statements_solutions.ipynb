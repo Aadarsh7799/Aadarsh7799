{
  "cells": [
    {
      "cell_type": "markdown",
      "metadata": {
        "id": "AcR_27Hh5QTe"
      },
      "source": [
        "Take three numbers 'x', 'y' and 'z' as input from the user and check which number is greater\n"
      ]
    },
    {
      "cell_type": "code",
      "execution_count": null,
      "metadata": {
        "vscode": {
          "languageId": "plaintext"
        }
      },
      "outputs": [],
      "source": [
        "x=int(input('please a number'))\n",
        "y=int(input('please a number'))\n",
        "z=int(input('please a number'))\n",
        "if x>y and x>z:\n",
        "    print('The largest number is ' , x)\n",
        "elif y>x and y>z:\n",
        "    print('The largest number is ' , y)\n",
        "else:\n",
        "    print('The largest number is ' , z)    "
      ]
    },
    {
      "cell_type": "markdown",
      "metadata": {
        "id": "QgkCsQlx4c5Y"
      },
      "source": [
        "Take an alphabet as input from the user and check if the alphabet is a vowel, consonant or an exception\n",
        "\n",
        "\n",
        "Vowel - 'a','e','i','o','u'\n",
        "\n",
        "Exception - 'h', 'y'\n",
        "\n",
        "Consonant - rest other alphabets "
      ]
    },
    {
      "cell_type": "code",
      "execution_count": null,
      "metadata": {
        "vscode": {
          "languageId": "plaintext"
        }
      },
      "outputs": [],
      "source": [
        "x=str(input('Enter an alphabet'))\n",
        "if x=='a' or x=='e' or x=='i' or x=='o' or x=='u':\n",
        "  print('the alphabet is a vowel')\n",
        "elif x=='h' or x=='y' :\n",
        "  print('the alphabet is an exception')\n",
        "else:\n",
        "  print('the alphabet is a consonant')"
      ]
    },
    {
      "cell_type": "markdown",
      "metadata": {
        "id": "5TqcIsuG4N4x"
      },
      "source": [
        "Write a program to check whether a number given by a user is divisible by 2 and 3 both "
      ]
    },
    {
      "cell_type": "code",
      "execution_count": null,
      "metadata": {
        "vscode": {
          "languageId": "plaintext"
        }
      },
      "outputs": [],
      "source": [
        "x=int(input('Enter an number'))\n",
        "if x%2==0:\n",
        "  print('the number is divisible by 2')\n",
        "elif x%3==0:\n",
        "  print('the number is divisible by 3')\n",
        "elif x%2==0 and x%3==0:\n",
        "  print('the number is divisible by 2 and 3')\n",
        "else:\n",
        "  print('the number is not divisible by 2 and 3')"
      ]
    },
    {
      "cell_type": "markdown",
      "metadata": {
        "id": "Vl0l7eM93o-k"
      },
      "source": [
        "Write a program to accept the cost price  of a bike as input and display the road tax to be paid according to the following crieteria :-\n",
        "\n",
        "Cost price - 100000 Tax - 15%\n",
        "\n",
        "Cost price - between 50000 to 100000 Tax - 10%\n",
        "\n",
        "Cost price - less than 50000 Tax - 5%"
      ]
    },
    {
      "cell_type": "code",
      "execution_count": null,
      "metadata": {
        "vscode": {
          "languageId": "plaintext"
        }
      },
      "outputs": [],
      "source": [
        "x=int(input('Enter the cost of bike' ))\n",
        "\n",
        "if x > 100000:\n",
        "    print('15% tax', 0.15*x)\n",
        "elif x > 50000 and i <= 100000:\n",
        "    print('10% tax', 0.1*x)\n",
        "elif x < 50000:\n",
        "    print('5% tax', 0.05*x)\n"
      ]
    },
    {
      "cell_type": "markdown",
      "metadata": {
        "id": "4qwB-dyV2vdv"
      },
      "source": [
        "Write a program to calculate the electricity bill by accepting the number of units consumed by the user as input. Use the following price chart for reference :-\n",
        "\n",
        "Price of first 100 units - no charge\n",
        "\n",
        "Price of next 100 units - Rs 5/- per unit\n",
        "\n",
        "After 200 units - Rs 10/- per unit"
      ]
    },
    {
      "cell_type": "code",
      "execution_count": null,
      "metadata": {
        "vscode": {
          "languageId": "plaintext"
        }
      },
      "outputs": [],
      "source": [
        "x=int(input('Enter your units consumed' ))\n",
        "\n",
        "if x > 100:\n",
        "    print('your total bill is ', x * 5)\n",
        "elif x > 200:\n",
        "    print('your total bill is ', x * 10)\n",
        "elif x < 100:\n",
        "    print('your total bill is 0')"
      ]
    }
  ],
  "metadata": {
    "colab": {
      "provenance": []
    },
    "kernelspec": {
      "display_name": "Python 3",
      "name": "python3"
    },
    "language_info": {
      "name": "python"
    }
  },
  "nbformat": 4,
  "nbformat_minor": 0
}
